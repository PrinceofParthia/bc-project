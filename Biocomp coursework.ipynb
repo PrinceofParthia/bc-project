{
 "cells": [
  {
   "cell_type": "code",
   "execution_count": 12,
   "id": "6a3d2f26-9021-4a8d-ba5c-031d9d5574d9",
   "metadata": {},
   "outputs": [
    {
     "name": "stdin",
     "output_type": "stream",
     "text": [
      "Enter email:  alexanderfowaters@gmail.com\n"
     ]
    },
    {
     "name": "stdout",
     "output_type": "stream",
     "text": [
      "Reinitialized existing Git repository in C:/Users/alexa/Downloads/baerhunter-master/baerhunter-master/R/.git/\n",
      "On branch test\n",
      "Untracked files:\n",
      "  (use \"git add <file>...\" to include in what will be committed)\n",
      "\t.ipynb_checkpoints/\n",
      "\tMSA.py\n",
      "\tUntitled.ipynb\n",
      "\tclustalo-R20230405-221208-0798-28169415-p1m.aln-clustal_num.clustal_num\n",
      "\tclustalo-R20230405-221208-0798-28169415-p1m.out.txt\n",
      "\tclustalo-R20230405-221208-0798-28169415-p1m.phylotree.ph\n",
      "\tclustalo-R20230405-221208-0798-28169415-p1m.pim.pim\n",
      "\tclustalo-R20230405-221208-0798-28169415-p1m.sequence.txt\n",
      "\tclustalo-R20230405-221208-0798-28169415-p1m.submission.params\n",
      "\tclustalo-R20230405-221208-0798-28169415-p1m.tree.dnd\n",
      "\tclustalo-R20230405-221208-0798-28169415-p1m.tree.nh\n",
      "\tclustalo.py\n",
      "\tcount_features.R\n",
      "\tdifferential_expression.R\n",
      "\tdog_breeds.fasta\n",
      "\tfeature_file_editor.R\n",
      "\tmystery.fasta\n",
      "\tpostcommand.py\n",
      "\tsimple_phylogeny.py\n",
      "\ttpm_norm_flagging.R\n",
      "\n",
      "nothing added to commit but untracked files present (use \"git add\" to track)\n"
     ]
    },
    {
     "name": "stderr",
     "output_type": "stream",
     "text": [
      "error: remote origin already exists.\n"
     ]
    },
    {
     "name": "stdout",
     "output_type": "stream",
     "text": [
      "  master\n",
      "* test\n"
     ]
    },
    {
     "name": "stderr",
     "output_type": "stream",
     "text": [
      "bash: /dev/tty: No such device or address\n",
      "error: failed to execute prompt script (exit code 1)\n",
      "fatal: could not read Username for 'https://github.com': No such file or directory\n"
     ]
    }
   ],
   "source": [
    "# Already run, appends the mystery sequence to the database so that the entire database could be aligned. Run this only for the first time you use a new mystery file.\n",
    "\n",
    "def addmysteryfile(mysteryfile = \"mystery.fasta\", database = \"dog_breeds.fasta\"):\n",
    "    mystery = open(mysteryfile, \"r\")\n",
    "    database = open(database, \"a\")\n",
    "    database.write(mystery.read())\n",
    "    database.close()\n",
    "    mystery.close()\n",
    "    return\n",
    "\n",
    "#addmysteryfile()\n",
    "\n",
    "# This function simply creates the command-line term to be used in the manual command-line step.\n",
    "\n",
    "def commandlineterm(web_service = \"python clustalo.py\", database = \"dog_breeds.fasta\"):\n",
    "    email = input(\"Enter email: \")\n",
    "    search_term = \"Your request term is: \" + str(web_service) + \" --asyncjob --email \" + str(email) + \" --stype dna --sequence \" + str(database)\n",
    "    return search_term\n",
    "\n",
    "commandlineterm()\n",
    "\n",
    "!git init \"C:/Users/alexa/Downloads/baerhunter-master/baerhunter-master/R\"\n",
    "!git config --global user.name \"PrinceofParthia\"\n",
    "!git config --global user.email \"alexanderfowaters@gmail.com\"\n",
    "!git add \"Biocomp coursework.ipynb\"\n",
    "!git commit -m \"This is a test of version control and the test for email address, therefore it is on the branch.\"\n",
    "!git remote add origin \"https://github.com/PrinceofParthia/bc-project\"\n",
    "\n",
    "!git branch\n",
    "!git push origin \"test\""
   ]
  }
 ],
 "metadata": {
  "kernelspec": {
   "display_name": "Python 3",
   "language": "python",
   "name": "python3"
  },
  "language_info": {
   "codemirror_mode": {
    "name": "ipython",
    "version": 3
   },
   "file_extension": ".py",
   "mimetype": "text/x-python",
   "name": "python",
   "nbconvert_exporter": "python",
   "pygments_lexer": "ipython3",
   "version": "3.8.8"
  }
 },
 "nbformat": 4,
 "nbformat_minor": 5
}
