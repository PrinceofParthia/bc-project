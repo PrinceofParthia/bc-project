{
 "cells": [
  {
   "cell_type": "code",
   "execution_count": 30,
   "id": "6a3d2f26-9021-4a8d-ba5c-031d9d5574d9",
   "metadata": {},
   "outputs": [
    {
     "name": "stdin",
     "output_type": "stream",
     "text": [
      "Enter email:  a\n"
     ]
    },
    {
     "name": "stdout",
     "output_type": "stream",
     "text": [
      "Your request term is: python clustalo.py --asyncjob --email a --stype dna --sequence dog_breeds.fasta\n"
     ]
    },
    {
     "ename": "TypeError",
     "evalue": "exceptions must derive from BaseException",
     "output_type": "error",
     "traceback": [
      "\u001b[1;31m---------------------------------------------------------------------------\u001b[0m",
      "\u001b[1;31mAssertionError\u001b[0m                            Traceback (most recent call last)",
      "\u001b[1;32m<ipython-input-30-846602a04916>\u001b[0m in \u001b[0;36mregex_search_test\u001b[1;34m(input_text)\u001b[0m\n\u001b[0;32m     26\u001b[0m         \u001b[0mpattern\u001b[0m \u001b[1;33m=\u001b[0m \u001b[0mre\u001b[0m\u001b[1;33m.\u001b[0m\u001b[0msearch\u001b[0m\u001b[1;33m(\u001b[0m\u001b[1;34mr\"[A-Za-z0-9]+@[A-Za-z0-9]+\\.\"\u001b[0m\u001b[1;33m,\u001b[0m \u001b[0minput_text\u001b[0m\u001b[1;33m)\u001b[0m\u001b[1;33m\u001b[0m\u001b[1;33m\u001b[0m\u001b[0m\n\u001b[1;32m---> 27\u001b[1;33m         \u001b[1;32massert\u001b[0m \u001b[0mpattern\u001b[0m \u001b[1;33m!=\u001b[0m \u001b[1;32mNone\u001b[0m\u001b[1;33m,\u001b[0m \u001b[1;34m\"This is not a viable email address\"\u001b[0m\u001b[1;33m\u001b[0m\u001b[1;33m\u001b[0m\u001b[0m\n\u001b[0m\u001b[0;32m     28\u001b[0m     \u001b[1;32mexcept\u001b[0m\u001b[1;33m:\u001b[0m\u001b[1;33m\u001b[0m\u001b[1;33m\u001b[0m\u001b[0m\n",
      "\u001b[1;31mAssertionError\u001b[0m: This is not a viable email address",
      "\nDuring handling of the above exception, another exception occurred:\n",
      "\u001b[1;31mTypeError\u001b[0m                                 Traceback (most recent call last)",
      "\u001b[1;32m<ipython-input-30-846602a04916>\u001b[0m in \u001b[0;36m<module>\u001b[1;34m\u001b[0m\n\u001b[0;32m     32\u001b[0m \u001b[0manswer\u001b[0m \u001b[1;33m=\u001b[0m \u001b[0mcommandlineterm\u001b[0m\u001b[1;33m(\u001b[0m\u001b[1;33m)\u001b[0m\u001b[1;33m\u001b[0m\u001b[1;33m\u001b[0m\u001b[0m\n\u001b[0;32m     33\u001b[0m \u001b[0mprint\u001b[0m\u001b[1;33m(\u001b[0m\u001b[0manswer\u001b[0m\u001b[1;33m)\u001b[0m\u001b[1;33m\u001b[0m\u001b[1;33m\u001b[0m\u001b[0m\n\u001b[1;32m---> 34\u001b[1;33m \u001b[0mregex_search_test\u001b[0m\u001b[1;33m(\u001b[0m\u001b[0manswer\u001b[0m\u001b[1;33m)\u001b[0m\u001b[1;33m\u001b[0m\u001b[1;33m\u001b[0m\u001b[0m\n\u001b[0m\u001b[0;32m     35\u001b[0m \u001b[1;33m\u001b[0m\u001b[0m\n\u001b[0;32m     36\u001b[0m \u001b[1;33m\u001b[0m\u001b[0m\n",
      "\u001b[1;32m<ipython-input-30-846602a04916>\u001b[0m in \u001b[0;36mregex_search_test\u001b[1;34m(input_text)\u001b[0m\n\u001b[0;32m     27\u001b[0m         \u001b[1;32massert\u001b[0m \u001b[0mpattern\u001b[0m \u001b[1;33m!=\u001b[0m \u001b[1;32mNone\u001b[0m\u001b[1;33m,\u001b[0m \u001b[1;34m\"This is not a viable email address\"\u001b[0m\u001b[1;33m\u001b[0m\u001b[1;33m\u001b[0m\u001b[0m\n\u001b[0;32m     28\u001b[0m     \u001b[1;32mexcept\u001b[0m\u001b[1;33m:\u001b[0m\u001b[1;33m\u001b[0m\u001b[1;33m\u001b[0m\u001b[0m\n\u001b[1;32m---> 29\u001b[1;33m         \u001b[1;32mraise\u001b[0m \u001b[1;34m\"This is not a viable email address!\"\u001b[0m\u001b[1;33m\u001b[0m\u001b[1;33m\u001b[0m\u001b[0m\n\u001b[0m\u001b[0;32m     30\u001b[0m \u001b[1;33m\u001b[0m\u001b[0m\n\u001b[0;32m     31\u001b[0m \u001b[1;33m\u001b[0m\u001b[0m\n",
      "\u001b[1;31mTypeError\u001b[0m: exceptions must derive from BaseException"
     ]
    }
   ],
   "source": [
    "# Already run, appends the mystery sequence to the database so that the entire database could be aligned. Run this only for the first time you use a new mystery file.\n",
    "\n",
    "import re\n",
    "\n",
    "def addmysteryfile(mysteryfile = \"mystery.fasta\", database = \"dog_breeds.fasta\"):\n",
    "    mystery = open(mysteryfile, \"r\")\n",
    "    database = open(database, \"a\")\n",
    "    database.write(mystery.read())\n",
    "    database.close()\n",
    "    mystery.close()\n",
    "    return\n",
    "\n",
    "#addmysteryfile()\n",
    "\n",
    "\n",
    "# This function simply creates the command-line term to be used in the manual command-line step.\n",
    "\n",
    "def commandlineterm(web_service = \"python clustalo.py\", database = \"dog_breeds.fasta\"):\n",
    "    email = input(\"Enter email: \")\n",
    "    search_term = \"Your request term is: \" + str(web_service) + \" --asyncjob --email \" + str(email) + \" --stype dna --sequence \" + str(database)\n",
    "    return search_term\n",
    "\n",
    "# Tests for an email address in the form [x]@[y].[z], where z can be com or ac.uk\n",
    "def regex_search_test(input_text):\n",
    "    try:\n",
    "        pattern = re.search(r\"[A-Za-z0-9]+@[A-Za-z0-9]+\\.\", input_text)\n",
    "        assert pattern != None, \"This is not a viable email address\"\n",
    "    except:\n",
    "        raise \"This is not a viable email address!\"\n",
    "\n",
    "\n",
    "answer = commandlineterm()\n",
    "print(answer)\n",
    "regex_search_test(answer)\n",
    "\n",
    "\n",
    "test_email(answer)\n",
    "!git init \"C:/Users/alexa/Downloads/baerhunter-master/baerhunter-master/R\"\n",
    "!git config --global user.name \"PrinceofParthia\"\n",
    "!git config --global user.email \"alexanderfowaters@gmail.com\"\n",
    "!git add \"Biocomp coursework.ipynb\"\n",
    "!git commit -m \"This is a test of version control and the test for email address, therefore it is on the branch.\"\n",
    "!git remote add origin \"https://github.com/PrinceofParthia/bc-project\"\n",
    "\n",
    "!git branch\n",
    "!git push origin \"test\""
   ]
  }
 ],
 "metadata": {
  "kernelspec": {
   "display_name": "Python 3",
   "language": "python",
   "name": "python3"
  },
  "language_info": {
   "codemirror_mode": {
    "name": "ipython",
    "version": 3
   },
   "file_extension": ".py",
   "mimetype": "text/x-python",
   "name": "python",
   "nbconvert_exporter": "python",
   "pygments_lexer": "ipython3",
   "version": "3.8.8"
  }
 },
 "nbformat": 4,
 "nbformat_minor": 5
}
